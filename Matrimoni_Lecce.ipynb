{
 "cells": [
  {
   "cell_type": "markdown",
   "metadata": {},
   "source": [
    "# Quando ci si sposa a Lecce?\n",
    "Ormai da diversi anni, il Comune di Lecce è impegnato fruttuosamente nell'apertura dei suoi dati. Tra questi, vi sono alcuni dataset riguardanti i matrimoni celebrati nei mesi degli anni 2015-2017 (i dati 2018 sono parziali). Anche se questo campione non è molto numeroso, possiamo usarlo per farci un'idea sui mesi in cui vengono celebrati più matrimoni nella splendida città salentina."
   ]
  },
  {
   "cell_type": "code",
   "execution_count": 1,
   "metadata": {},
   "outputs": [],
   "source": [
    "# Domenico Delle Side (nico @ delleside.org)\n",
    "# tutto il codice e le figure presenti in questo notebook jupyter sono rilasciati\n",
    "# con licenza Creative Commons Attribution 4.0 International (CC BY 4.0)\n",
    "# https://creativecommons.org/licenses/by/4.0/\n",
    "\n",
    "# carichiamo i moduli python necessari\n",
    "import numpy as np\n",
    "import pandas as pd\n",
    "import matplotlib.pyplot as plt\n",
    "from pandas.api.types import CategoricalDtype\n",
    "\n",
    "# per semplificare le operazioni, creiamo un tipo di dato categorico\n",
    "# per i mesi dell'anno\n",
    "months_cat = CategoricalDtype(['gennaio', 'febbraio', 'marzo',\n",
    "                               'aprile', 'maggio', 'giugno',\n",
    "                               'luglio', 'agosto', 'settembre',\n",
    "                               'ottobre', 'novembre', 'dicembre'], ordered=True)\n",
    "\n",
    "# creiamo un array associativo (dict), con l'url del csv per ogni anno\n",
    "anni_url = {'2015': 'https://goo.gl/P5NUSS', \n",
    "            '2016': 'https://goo.gl/lgc15l', \n",
    "            '2017': 'https://goo.gl/HIfh7n'}\n",
    "# in questa lista ospiteremo di dati dei singoli anni\n",
    "dati = []"
   ]
  },
  {
   "cell_type": "code",
   "execution_count": 2,
   "metadata": {},
   "outputs": [],
   "source": [
    "# carichiamo i dati\n",
    "for anno in anni_url:\n",
    "    dati_tmp = pd.read_csv(anni_url[anno])\n",
    "    dati_tmp = dati_tmp.fillna(0)\n",
    "    dati.append(dati_tmp[['Anno', 'mese', 'matrimoni religiosi', 'matrimoni civili']])\n",
    "\n",
    "del dati_tmp"
   ]
  },
  {
   "cell_type": "code",
   "execution_count": 3,
   "metadata": {},
   "outputs": [],
   "source": [
    "# concateniamo i dati in un unico dataframe\n",
    "alldata = pd.concat(dati)\n",
    "# creiamo una singola serie contenente la somma di matrimoni civili e religiosi\n",
    "alldata['matrimoni'] = alldata['matrimoni civili'] + alldata['matrimoni religiosi']\n",
    "del alldata['matrimoni civili']\n",
    "del alldata['matrimoni religiosi']\n",
    "alldata.mese = alldata.mese.astype(months_cat)"
   ]
  },
  {
   "cell_type": "code",
   "execution_count": 4,
   "metadata": {},
   "outputs": [],
   "source": [
    "# raggruppiamo i dati per mese\n",
    "permonth = alldata.groupby('mese').agg({'matrimoni': np.sum})"
   ]
  },
  {
   "cell_type": "code",
   "execution_count": 5,
   "metadata": {},
   "outputs": [
    {
     "data": {
      "text/html": [
       "<div>\n",
       "<style scoped>\n",
       "    .dataframe tbody tr th:only-of-type {\n",
       "        vertical-align: middle;\n",
       "    }\n",
       "\n",
       "    .dataframe tbody tr th {\n",
       "        vertical-align: top;\n",
       "    }\n",
       "\n",
       "    .dataframe thead th {\n",
       "        text-align: right;\n",
       "    }\n",
       "</style>\n",
       "<table border=\"1\" class=\"dataframe\">\n",
       "  <thead>\n",
       "    <tr style=\"text-align: right;\">\n",
       "      <th></th>\n",
       "      <th>matrimoni</th>\n",
       "    </tr>\n",
       "    <tr>\n",
       "      <th>mese</th>\n",
       "      <th></th>\n",
       "    </tr>\n",
       "  </thead>\n",
       "  <tbody>\n",
       "    <tr>\n",
       "      <th>gennaio</th>\n",
       "      <td>31</td>\n",
       "    </tr>\n",
       "    <tr>\n",
       "      <th>febbraio</th>\n",
       "      <td>22</td>\n",
       "    </tr>\n",
       "    <tr>\n",
       "      <th>marzo</th>\n",
       "      <td>15</td>\n",
       "    </tr>\n",
       "    <tr>\n",
       "      <th>aprile</th>\n",
       "      <td>58</td>\n",
       "    </tr>\n",
       "    <tr>\n",
       "      <th>maggio</th>\n",
       "      <td>105</td>\n",
       "    </tr>\n",
       "    <tr>\n",
       "      <th>giugno</th>\n",
       "      <td>216</td>\n",
       "    </tr>\n",
       "    <tr>\n",
       "      <th>luglio</th>\n",
       "      <td>169</td>\n",
       "    </tr>\n",
       "    <tr>\n",
       "      <th>agosto</th>\n",
       "      <td>190</td>\n",
       "    </tr>\n",
       "    <tr>\n",
       "      <th>settembre</th>\n",
       "      <td>260</td>\n",
       "    </tr>\n",
       "    <tr>\n",
       "      <th>ottobre</th>\n",
       "      <td>98</td>\n",
       "    </tr>\n",
       "    <tr>\n",
       "      <th>novembre</th>\n",
       "      <td>32</td>\n",
       "    </tr>\n",
       "    <tr>\n",
       "      <th>dicembre</th>\n",
       "      <td>83</td>\n",
       "    </tr>\n",
       "  </tbody>\n",
       "</table>\n",
       "</div>"
      ],
      "text/plain": [
       "           matrimoni\n",
       "mese                \n",
       "gennaio           31\n",
       "febbraio          22\n",
       "marzo             15\n",
       "aprile            58\n",
       "maggio           105\n",
       "giugno           216\n",
       "luglio           169\n",
       "agosto           190\n",
       "settembre        260\n",
       "ottobre           98\n",
       "novembre          32\n",
       "dicembre          83"
      ]
     },
     "execution_count": 5,
     "metadata": {},
     "output_type": "execute_result"
    }
   ],
   "source": [
    "permonth"
   ]
  },
  {
   "cell_type": "code",
   "execution_count": 6,
   "metadata": {},
   "outputs": [
    {
     "data": {
      "image/png": "[encoded data removed]",
      "text/plain": [
       "<Figure size 864x432 with 1 Axes>"
      ]
     },
     "metadata": {},
     "output_type": "display_data"
    }
   ],
   "source": [
    "plt.subplots(figsize=(12,6))\n",
    "permonth['matrimoni'].plot(kind='bar')\n",
    "plt.title('Matrimoni 2015-2017 per mese')\n",
    "plt.xticks(rotation=30)\n",
    "plt.show()"
   ]
  },
  {
   "cell_type": "markdown",
   "metadata": {},
   "source": [
    "Come si vede dalla figura, il periodo estivo è quello in cui ci sono più matrimoni: settembre e giugno sono i mesi più gettonati, con agosto e luglio che seguono a ruota. Gli altri mesi sono senz'altro meno 'caldi'.\n",
    "\n",
    "Il mese che in assoluto vede meno matrimoni è marzo. "
   ]
  },
  {
   "cell_type": "code",
   "execution_count": null,
   "metadata": {},
   "outputs": [],
   "source": []
  }
 ],
 "metadata": {
  "kernelspec": {
   "display_name": "Python 3",
   "language": "python",
   "name": "python3"
  },
  "language_info": {
   "codemirror_mode": {
    "name": "ipython",
    "version": 3
   },
   "file_extension": ".py",
   "mimetype": "text/x-python",
   "name": "python",
   "nbconvert_exporter": "python",
   "pygments_lexer": "ipython3",
   "version": "3.6.5"
  }
 },
 "nbformat": 4,
 "nbformat_minor": 2
}
